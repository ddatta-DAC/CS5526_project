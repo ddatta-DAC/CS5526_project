{
 "cells": [
  {
   "cell_type": "code",
   "execution_count": 123,
   "metadata": {},
   "outputs": [],
   "source": [
    "from numpy import genfromtxt\n",
    "import numpy as np\n",
    "import matplotlib.pyplot as plt\n",
    "import seaborn as sns\n",
    "import pandas as pd\n",
    "from scipy.stats import entropy\n",
    "from math import log, e\n",
    "import math\n",
    "import os\n",
    "import pickle"
   ]
  },
  {
   "cell_type": "code",
   "execution_count": 124,
   "metadata": {},
   "outputs": [],
   "source": [
    "my_data = genfromtxt('../Data/data_2/covtype.data', delimiter=',')"
   ]
  },
  {
   "cell_type": "code",
   "execution_count": 15,
   "metadata": {},
   "outputs": [
    {
     "data": {
      "text/plain": [
       "(581012, 55)"
      ]
     },
     "execution_count": 15,
     "metadata": {},
     "output_type": "execute_result"
    }
   ],
   "source": [
    "my_data.shape"
   ]
  },
  {
   "cell_type": "code",
   "execution_count": 125,
   "metadata": {},
   "outputs": [
    {
     "name": "stdout",
     "output_type": "stream",
     "text": [
      "Class : 1.0 | count : 211840\n",
      "Class : 2.0 | count : 283301\n",
      "Class : 3.0 | count : 35754\n",
      "Class : 4.0 | count : 2747\n",
      "Class : 5.0 | count : 9493\n",
      "Class : 6.0 | count : 17367\n",
      "Class : 7.0 | count : 20510\n"
     ]
    }
   ],
   "source": [
    "for i in set(my_data[:,-1]) :\n",
    "    _list = list(my_data[:,-1])\n",
    "    c = _list.count(i)\n",
    "    print('Class :', i,'| count :',c )"
   ]
  },
  {
   "cell_type": "code",
   "execution_count": 28,
   "metadata": {},
   "outputs": [],
   "source": [
    "# there are 7 classes \n",
    "# taking the majority class as normal and the class(es) with minimum number of points as anomalous\n",
    "# this assumption has been done in CompreX\n",
    "\n",
    "normal_class = 1\n",
    "anomaly_class_1 = 4 \n",
    "anomaly_class_2 = 5"
   ]
  },
  {
   "cell_type": "code",
   "execution_count": 19,
   "metadata": {},
   "outputs": [
    {
     "name": "stdout",
     "output_type": "stream",
     "text": [
      "[0, 1, 2, 3, 4, 5, 6, 7, 8, 9, 10, 11, 12, 13, 14, 15, 16, 17, 18, 19, 20, 21, 22, 23, 24, 25, 26, 27, 28, 29, 30, 31, 32, 33, 34, 35, 36, 37, 38, 39, 40, 41, 42, 43, 44, 45, 46, 47, 48, 49, 50, 51, 52, 53, 54]\n"
     ]
    }
   ],
   "source": [
    "df = pd.DataFrame(data=my_data)\n",
    "print(list(df.columns))"
   ]
  },
  {
   "cell_type": "code",
   "execution_count": 127,
   "metadata": {},
   "outputs": [],
   "source": [
    "df = df.rename(columns = {54:'tag'})\n",
    "data_df = df[(df['tag']==normal_class)] \n",
    "anom = df[(df['tag']== anomaly_class_1)|(df['tag']==anomaly_class_2)].sample(int(len(data_df)*0.04))\n",
    "data_df = data_df.append(anom)"
   ]
  },
  {
   "cell_type": "code",
   "execution_count": 128,
   "metadata": {},
   "outputs": [
    {
     "data": {
      "text/plain": [
       "220313"
      ]
     },
     "execution_count": 128,
     "metadata": {},
     "output_type": "execute_result"
    }
   ],
   "source": [
    "len(data_df)"
   ]
  },
  {
   "cell_type": "code",
   "execution_count": 129,
   "metadata": {},
   "outputs": [
    {
     "name": "stdout",
     "output_type": "stream",
     "text": [
      "Percentage of Anomalies : 3.8458919809543697\n"
     ]
    }
   ],
   "source": [
    "l1 = len(data_df[data_df['tag']==normal_class])\n",
    "l2 = len(data_df)\n",
    "l1 = l2-l1\n",
    "print('Percentage of Anomalies :',  (l1/l2)*100 )"
   ]
  },
  {
   "cell_type": "code",
   "execution_count": 130,
   "metadata": {},
   "outputs": [],
   "source": [
    "# add in id\n",
    "new_col = list(range(1,len(data_df)+1))\n",
    "data_df.insert(loc=0, column='id', value=new_col)"
   ]
  },
  {
   "cell_type": "markdown",
   "metadata": {},
   "source": [
    "### Exploring the attributes\n"
   ]
  },
  {
   "cell_type": "code",
   "execution_count": 131,
   "metadata": {},
   "outputs": [],
   "source": [
    "def entropy_calc(labels):\n",
    "    n_labels = len(labels)\n",
    "    if n_labels <= 1:\n",
    "        return 0\n",
    "\n",
    "    value,counts = np.unique(labels, return_counts=True)\n",
    "    probs = counts / n_labels\n",
    "    n_classes = np.count_nonzero(probs)\n",
    "\n",
    "    if n_classes <= 1:\n",
    "        return 0\n",
    "\n",
    "    ent = 0.\n",
    "    base = math.e \n",
    "    for i in probs:\n",
    "        ent -= i * log(i, base)\n",
    "    k = len(value)\n",
    "    ent = ent/log(k,base)\n",
    "    return ent"
   ]
  },
  {
   "cell_type": "code",
   "execution_count": 132,
   "metadata": {},
   "outputs": [],
   "source": [
    "def get_entropies(df):\n",
    "    # ignore 1st and last columns\n",
    "    num_cols = len(df.columns)\n",
    "    res = {}\n",
    "    for i in range(1,num_cols-2):\n",
    "        e = entropy_calc(list(df[i]))\n",
    "        print(i,e)\n",
    "        res[i] = e\n",
    "    return res"
   ]
  },
  {
   "cell_type": "code",
   "execution_count": 133,
   "metadata": {},
   "outputs": [
    {
     "name": "stdout",
     "output_type": "stream",
     "text": [
      "1 0.9773444467857112\n",
      "2 0.8177691507727548\n",
      "3 0.7866949335922656\n",
      "4 0.792960451975529\n",
      "5 0.955968342680144\n",
      "6 0.8527315673834043\n",
      "7 0.8307843212467241\n",
      "8 0.9040954231258223\n",
      "9 0.9122773404972147\n",
      "10 0.9997979630313271\n",
      "11 0.41750530624084253\n",
      "12 0.9791796532227676\n",
      "13 0.07208577366717682\n",
      "14 0.006936549650709587\n",
      "15 0.013444989118837404\n",
      "16 0.03120502433369651\n",
      "17 0.03165529884077621\n",
      "18 0.002348230372698051\n",
      "19 0.011709539526396844\n",
      "20 0\n",
      "21 0.0026867040858765488\n",
      "22 0.008667358732380311\n",
      "23 0.051744930442037256\n",
      "24 0.05015820964183601\n",
      "25 0.09519722638228624\n",
      "26 0.10715352210028091\n",
      "27 0.006046659912590714\n",
      "28 0\n",
      "29 0.0308287743724647\n",
      "30 0.03944647870512452\n",
      "31 0.009325453021437464\n",
      "32 0.08965785821093814\n",
      "33 0.12447814823416645\n",
      "34 0.03480827297363503\n",
      "35 0.5207599532744404\n",
      "36 0.642818490848403\n",
      "37 0.29013253085691726\n",
      "38 0.006936549650709587\n",
      "39 0.018193898458121895\n",
      "40 0.027282591638744174\n",
      "41 0.0031843176204727594\n",
      "42 0.7093379347040475\n",
      "43 0.24795495379558127\n",
      "44 0.3064630476576524\n",
      "45 0.4637899554521457\n",
      "46 0.41628646011825354\n",
      "47 0.0059466149606292465\n",
      "48 0.03941071290621074\n",
      "49 0.0009776220709738343\n",
      "50 0\n",
      "51 0.24055133559509773\n",
      "52 0.22257996665041482\n",
      "53 0.15200805887824095\n"
     ]
    }
   ],
   "source": [
    "attr_entropy = get_entropies(data_df)\n"
   ]
  },
  {
   "cell_type": "code",
   "execution_count": 134,
   "metadata": {},
   "outputs": [
    {
     "data": {
      "image/png": "[encoded data removed]",
      "text/plain": [
       "<Figure size 1008x432 with 1 Axes>"
      ]
     },
     "metadata": {},
     "output_type": "display_data"
    }
   ],
   "source": [
    "plt.figure(figsize=[14,6])\n",
    "sns.set(style=\"whitegrid\")\n",
    "sns.barplot(x=list(attr_entropy.keys()), y=list(attr_entropy.values()))\n",
    "plt.xlabel('Attribute')\n",
    "plt.ylabel('Entropy')\n",
    "plt.title('Entropy distribution of the attributes')\n",
    "plt.show()"
   ]
  },
  {
   "cell_type": "markdown",
   "metadata": {},
   "source": [
    "## Filter attributes by threshold\n",
    "### lb =0.05\n",
    "### ub =0.95\n"
   ]
  },
  {
   "cell_type": "code",
   "execution_count": 135,
   "metadata": {},
   "outputs": [],
   "source": [
    "\n",
    "lb = 0.02\n",
    "ub = 0.98\n",
    "attr_list = []\n",
    "for k,v in attr_entropy.items():\n",
    "    if v >= lb and v<= ub:\n",
    "        attr_list.append(k)\n",
    "        "
   ]
  },
  {
   "cell_type": "code",
   "execution_count": 136,
   "metadata": {},
   "outputs": [
    {
     "data": {
      "text/plain": [
       "36"
      ]
     },
     "execution_count": 136,
     "metadata": {},
     "output_type": "execute_result"
    }
   ],
   "source": [
    "len(attr_list)"
   ]
  },
  {
   "cell_type": "code",
   "execution_count": 137,
   "metadata": {},
   "outputs": [],
   "source": [
    "valid_attr = ['id']\n",
    "valid_attr.extend(attr_list)\n",
    "valid_attr.append('tag')\n",
    "data_df = data_df[valid_attr]"
   ]
  },
  {
   "cell_type": "markdown",
   "metadata": {},
   "source": [
    "## Explore Arity of the domains"
   ]
  },
  {
   "cell_type": "code",
   "execution_count": 138,
   "metadata": {},
   "outputs": [],
   "source": [
    "def get_domain_arity(df,attr_list):\n",
    "    domain_arity = {a: len(set(df[a])) for a in attr_list}\n",
    "    return domain_arity"
   ]
  },
  {
   "cell_type": "code",
   "execution_count": 148,
   "metadata": {},
   "outputs": [
    {
     "data": {
      "image/png": "[encoded data removed]",
      "text/plain": [
       "<Figure size 1008x432 with 1 Axes>"
      ]
     },
     "metadata": {},
     "output_type": "display_data"
    }
   ],
   "source": [
    "\n",
    "domain_arity = get_domain_arity(data_df,attr_list)\n",
    "plt.figure(figsize=[14,6])\n",
    "sns.set(style=\"whitegrid\")\n",
    "sns.barplot(x=list(domain_arity.keys()), y=list(domain_arity.values()))\n",
    "plt.xlabel('Attribute')\n",
    "plt.ylabel('Arity(Cardinality)')\n",
    "plt.title('Arity distribution of the attributes')\n",
    "plt.show()  "
   ]
  },
  {
   "cell_type": "code",
   "execution_count": 98,
   "metadata": {},
   "outputs": [
    {
     "data": {
      "text/plain": [
       "{1: 361,\n",
       " 2: 56,\n",
       " 3: 424,\n",
       " 4: 568,\n",
       " 5: 5290,\n",
       " 6: 202,\n",
       " 7: 165,\n",
       " 8: 254,\n",
       " 9: 5620,\n",
       " 11: 2,\n",
       " 12: 2,\n",
       " 13: 2,\n",
       " 16: 2,\n",
       " 17: 2,\n",
       " 23: 2,\n",
       " 24: 2,\n",
       " 25: 2,\n",
       " 26: 2,\n",
       " 29: 2,\n",
       " 30: 2,\n",
       " 32: 2,\n",
       " 33: 2,\n",
       " 34: 2,\n",
       " 35: 2,\n",
       " 36: 2,\n",
       " 37: 2,\n",
       " 40: 2,\n",
       " 42: 2,\n",
       " 43: 2,\n",
       " 44: 2,\n",
       " 45: 2,\n",
       " 46: 2,\n",
       " 48: 2,\n",
       " 51: 2,\n",
       " 52: 2,\n",
       " 53: 2}"
      ]
     },
     "execution_count": 98,
     "metadata": {},
     "output_type": "execute_result"
    }
   ],
   "source": [
    "domain_arity"
   ]
  },
  {
   "cell_type": "code",
   "execution_count": 141,
   "metadata": {},
   "outputs": [],
   "source": [
    "\n",
    "# Save the data ina numpy array\n",
    "_tmp = data_df[data_df['tag'] == normal_class]\n",
    "_normal = list(_tmp['id'])\n",
    "\n",
    "\n",
    "_tmp = data_df[(data_df['tag'] == anomaly_class_1) & (data_df['tag'] == anomaly_class_2)]\n",
    "_anomaly =  list(_tmp['id'])\n",
    "\n"
   ]
  },
  {
   "cell_type": "code",
   "execution_count": 144,
   "metadata": {},
   "outputs": [],
   "source": [
    "def replace_attr_with_id(row, attr, val2id_dict):\n",
    "    val = row[attr]\n",
    "    if val not in val2id_dict.keys():\n",
    "        print(attr,val)\n",
    "        return None\n",
    "    else:\n",
    "        return val2id_dict[val]\n",
    "\n",
    "\n",
    "def convert_to_ids(df, cols , save_dir):\n",
    "    domain_dims_dict = {}\n",
    "\n",
    "    for col in cols:\n",
    "\n",
    "        vals = list(set(df[col]))\n",
    "        id2val_dict = {e[0]: e[1] for e in enumerate(vals, 0)}\n",
    "\n",
    "        file_name = str(col) +'_id2val.pkl'\n",
    "        with open( os.path.join(save_dir,file_name), 'wb') as f:\n",
    "            pickle.dump(id2val_dict, f, pickle.HIGHEST_PROTOCOL)\n",
    "\n",
    "        val2id_dict = {v: k for k, v in id2val_dict.items()}\n",
    "        # replace\n",
    "        df[col] = df.apply(\n",
    "            replace_attr_with_id,\n",
    "            axis=1,\n",
    "            args=(\n",
    "                col,\n",
    "                val2id_dict,\n",
    "            )\n",
    "        )\n",
    "        domain_dims_dict[col] = len(id2val_dict)\n",
    "\n",
    "    domain_dims = []\n",
    "    domain_dims_res = {}\n",
    "\n",
    "    for col in list(df.columns):\n",
    "        if col in domain_dims_dict.keys():\n",
    "            print(col)\n",
    "            domain_dims_res[col] = domain_dims_dict[col]\n",
    "            domain_dims.append(domain_dims_dict[col])\n",
    "\n",
    "    domain_dims =  np.array(domain_dims)\n",
    "    file = 'domain_dims.pkl'\n",
    "    f_path = os.path.join(save_dir, file)\n",
    "\n",
    "    with open(f_path,'wb') as fh:\n",
    "        pickle.dump(\n",
    "            domain_dims_res,\n",
    "            fh,\n",
    "            pickle.HIGHEST_PROTOCOL\n",
    "        )\n",
    "    return df"
   ]
  },
  {
   "cell_type": "code",
   "execution_count": 145,
   "metadata": {},
   "outputs": [],
   "source": [
    "all_ids = list(data_df['id'])\n",
    "record_id_dict ={\n",
    "    'all':all_ids,\n",
    "    'normal':_normal,\n",
    "    'anomaly':_anomaly\n",
    "}"
   ]
  },
  {
   "cell_type": "code",
   "execution_count": 146,
   "metadata": {},
   "outputs": [
    {
     "name": "stdout",
     "output_type": "stream",
     "text": [
      "1\n",
      "2\n",
      "3\n",
      "4\n",
      "5\n",
      "6\n",
      "7\n",
      "8\n",
      "9\n",
      "11\n",
      "12\n",
      "13\n",
      "16\n",
      "17\n",
      "23\n",
      "24\n",
      "25\n",
      "26\n",
      "29\n",
      "30\n",
      "32\n",
      "33\n",
      "34\n",
      "35\n",
      "36\n",
      "37\n",
      "40\n",
      "42\n",
      "43\n",
      "44\n",
      "45\n",
      "46\n",
      "48\n",
      "51\n",
      "52\n",
      "53\n"
     ]
    }
   ],
   "source": [
    "save_dir = '../Data/data_2'\n",
    "\n",
    "data_df_1 = pd.DataFrame(data_df,copy=True)\n",
    "try:\n",
    "    del data_df_1['id']\n",
    "    del data_df_1['tag']\n",
    "except:\n",
    "    pass\n",
    "\n",
    "# convert all values to int\n",
    "for c in list(data_df_1.columns):\n",
    "    data_df_1[c] = data_df_1[c].astype(int)  \n",
    "cols = list(data_df_1.columns)\n",
    "convert_to_ids(data_df_1, cols , save_dir)\n",
    "data_x = data_df_1.values\n",
    "    "
   ]
  },
  {
   "cell_type": "code",
   "execution_count": 147,
   "metadata": {},
   "outputs": [],
   "source": [
    "OP_PATH = '../Data/data_2'\n",
    "data_x_file = 'data_2_x.pkl'\n",
    "record_file = 'data_2_idList.pkl'\n",
    "\n",
    "f_path_1 = os.path.join(OP_PATH,data_x_file)\n",
    "f_path_2 = os.path.join(OP_PATH,record_file)\n",
    "\n",
    "with open(f_path_1,'wb') as fh :\n",
    "    pickle.dump(data_x, fh,pickle.HIGHEST_PROTOCOL)\n",
    "    \n",
    "with open(f_path_2,'wb') as fh :\n",
    "    pickle.dump(record_id_dict, fh,pickle.HIGHEST_PROTOCOL)\n",
    "    "
   ]
  },
  {
   "cell_type": "code",
   "execution_count": 111,
   "metadata": {},
   "outputs": [
    {
     "data": {
      "text/plain": [
       "numpy.ndarray"
      ]
     },
     "execution_count": 111,
     "metadata": {},
     "output_type": "execute_result"
    }
   ],
   "source": []
  },
  {
   "cell_type": "code",
   "execution_count": null,
   "metadata": {},
   "outputs": [],
   "source": []
  }
 ],
 "metadata": {
  "kernelspec": {
   "display_name": "Python 3",
   "language": "python",
   "name": "python3"
  },
  "language_info": {
   "codemirror_mode": {
    "name": "ipython",
    "version": 3
   },
   "file_extension": ".py",
   "mimetype": "text/x-python",
   "name": "python",
   "nbconvert_exporter": "python",
   "pygments_lexer": "ipython3",
   "version": "3.6.7"
  }
 },
 "nbformat": 4,
 "nbformat_minor": 2
}
